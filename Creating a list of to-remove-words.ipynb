{
  "nbformat": 4,
  "nbformat_minor": 0,
  "metadata": {
    "colab": {
      "name": "Colab's New Code Editor",
      "provenance": [],
      "collapsed_sections": [],
      "include_colab_link": true
    },
    "kernelspec": {
      "display_name": "Python 3",
      "name": "python3"
    }
  },
  "cells": [
    {
      "cell_type": "markdown",
      "metadata": {
        "id": "view-in-github",
        "colab_type": "text"
      },
      "source": [
        "<a href=\"https://colab.research.google.com/github/PraveenKumarGarlapati/TextMining_Hospitality/blob/master/Creating%20a%20list%20of%20to-remove-words.ipynb\" target=\"_parent\"><img src=\"https://colab.research.google.com/assets/colab-badge.svg\" alt=\"Open In Colab\"/></a>"
      ]
    },
    {
      "cell_type": "code",
      "metadata": {
        "id": "DMmKPvrDrNzE",
        "colab_type": "code",
        "colab": {
          "base_uri": "https://localhost:8080/",
          "height": 255
        },
        "outputId": "e47077db-2c6d-4fa6-b20f-786482157c2e"
      },
      "source": [
        "import pandas as pd\n",
        "gcp = pd.read_excel('/content/GCP_Entity_SentLevel_IHG tags.xlsx', sheet_name = 'Sheet1')\n",
        "gcp.head()"
      ],
      "execution_count": 228,
      "outputs": [
        {
          "output_type": "execute_result",
          "data": {
            "text/html": [
              "<div>\n",
              "<style scoped>\n",
              "    .dataframe tbody tr th:only-of-type {\n",
              "        vertical-align: middle;\n",
              "    }\n",
              "\n",
              "    .dataframe tbody tr th {\n",
              "        vertical-align: top;\n",
              "    }\n",
              "\n",
              "    .dataframe thead th {\n",
              "        text-align: right;\n",
              "    }\n",
              "</style>\n",
              "<table border=\"1\" class=\"dataframe\">\n",
              "  <thead>\n",
              "    <tr style=\"text-align: right;\">\n",
              "      <th></th>\n",
              "      <th>Sentence</th>\n",
              "      <th>entity_score</th>\n",
              "      <th>Length</th>\n",
              "      <th>Type</th>\n",
              "      <th>non entity word to remove</th>\n",
              "      <th>Additonal Words</th>\n",
              "      <th>Solution</th>\n",
              "      <th>Add to Dictionary</th>\n",
              "      <th>IHG Dictionary</th>\n",
              "    </tr>\n",
              "  </thead>\n",
              "  <tbody>\n",
              "    <tr>\n",
              "      <th>0</th>\n",
              "      <td>comfortable room</td>\n",
              "      <td>room,</td>\n",
              "      <td>6.0</td>\n",
              "      <td>A</td>\n",
              "      <td>NaN</td>\n",
              "      <td>NaN</td>\n",
              "      <td>NaN</td>\n",
              "      <td>NaN</td>\n",
              "      <td>NaN</td>\n",
              "    </tr>\n",
              "    <tr>\n",
              "      <th>1</th>\n",
              "      <td>great location</td>\n",
              "      <td>location,</td>\n",
              "      <td>10.0</td>\n",
              "      <td>A</td>\n",
              "      <td>NaN</td>\n",
              "      <td>NaN</td>\n",
              "      <td>NaN</td>\n",
              "      <td>NaN</td>\n",
              "      <td>NaN</td>\n",
              "    </tr>\n",
              "    <tr>\n",
              "      <th>2</th>\n",
              "      <td>good facilities</td>\n",
              "      <td>facilities,</td>\n",
              "      <td>12.0</td>\n",
              "      <td>A</td>\n",
              "      <td>NaN</td>\n",
              "      <td>NaN</td>\n",
              "      <td>NaN</td>\n",
              "      <td>NaN</td>\n",
              "      <td>NaN</td>\n",
              "    </tr>\n",
              "    <tr>\n",
              "      <th>3</th>\n",
              "      <td>very good location great staff and great exper...</td>\n",
              "      <td>location, , staff, , experience,</td>\n",
              "      <td>33.0</td>\n",
              "      <td>A</td>\n",
              "      <td>NaN</td>\n",
              "      <td>NaN</td>\n",
              "      <td>NaN</td>\n",
              "      <td>NaN</td>\n",
              "      <td>NaN</td>\n",
              "    </tr>\n",
              "    <tr>\n",
              "      <th>4</th>\n",
              "      <td>refrigerator</td>\n",
              "      <td>Refrigerator,</td>\n",
              "      <td>14.0</td>\n",
              "      <td>A</td>\n",
              "      <td>NaN</td>\n",
              "      <td>NaN</td>\n",
              "      <td>NaN</td>\n",
              "      <td>NaN</td>\n",
              "      <td>NaN</td>\n",
              "    </tr>\n",
              "  </tbody>\n",
              "</table>\n",
              "</div>"
            ],
            "text/plain": [
              "                                            Sentence  ... IHG Dictionary\n",
              "0                                   comfortable room  ...            NaN\n",
              "1                                     great location  ...            NaN\n",
              "2                                    good facilities  ...            NaN\n",
              "3  very good location great staff and great exper...  ...            NaN\n",
              "4                                       refrigerator  ...            NaN\n",
              "\n",
              "[5 rows x 9 columns]"
            ]
          },
          "metadata": {
            "tags": []
          },
          "execution_count": 228
        }
      ]
    },
    {
      "cell_type": "code",
      "metadata": {
        "id": "Iv3L4xG1rPSr",
        "colab_type": "code",
        "colab": {}
      },
      "source": [
        "#gcp1 = gcp[gcp.Type == 'B']\n",
        "gcp1 = gcp"
      ],
      "execution_count": 0,
      "outputs": []
    },
    {
      "cell_type": "code",
      "metadata": {
        "id": "TNxGGuGewZjO",
        "colab_type": "code",
        "colab": {
          "base_uri": "https://localhost:8080/",
          "height": 374
        },
        "outputId": "bc947bf4-48ee-4c02-adff-f2aee1bf9620"
      },
      "source": [
        "gcp1.head()"
      ],
      "execution_count": 32,
      "outputs": [
        {
          "output_type": "execute_result",
          "data": {
            "text/html": [
              "<div>\n",
              "<style scoped>\n",
              "    .dataframe tbody tr th:only-of-type {\n",
              "        vertical-align: middle;\n",
              "    }\n",
              "\n",
              "    .dataframe tbody tr th {\n",
              "        vertical-align: top;\n",
              "    }\n",
              "\n",
              "    .dataframe thead th {\n",
              "        text-align: right;\n",
              "    }\n",
              "</style>\n",
              "<table border=\"1\" class=\"dataframe\">\n",
              "  <thead>\n",
              "    <tr style=\"text-align: right;\">\n",
              "      <th></th>\n",
              "      <th>Sentence</th>\n",
              "      <th>entity_score</th>\n",
              "      <th>Length</th>\n",
              "      <th>Type</th>\n",
              "      <th>non entity word to remove</th>\n",
              "      <th>Additonal Words</th>\n",
              "      <th>Solution</th>\n",
              "      <th>Add to Dictionary</th>\n",
              "      <th>IHG Dictionary</th>\n",
              "    </tr>\n",
              "  </thead>\n",
              "  <tbody>\n",
              "    <tr>\n",
              "      <th>170</th>\n",
              "      <td>we were on the 26th floor so all was peaceful ...</td>\n",
              "      <td>floor, , Breakfast, , breakfast, , choice, , h...</td>\n",
              "      <td>90</td>\n",
              "      <td>B</td>\n",
              "      <td>Floor, , House Counter</td>\n",
              "      <td>NaN</td>\n",
              "      <td>BE</td>\n",
              "      <td>NaN</td>\n",
              "      <td>NaN</td>\n",
              "    </tr>\n",
              "    <tr>\n",
              "      <th>268</th>\n",
              "      <td>only one thing to say is that all the bedroom ...</td>\n",
              "      <td>thing, , bedroom doors, -</td>\n",
              "      <td>25</td>\n",
              "      <td>B</td>\n",
              "      <td>Thing</td>\n",
              "      <td>bedroom, doors, noisy</td>\n",
              "      <td>BE</td>\n",
              "      <td>thing</td>\n",
              "      <td>NaN</td>\n",
              "    </tr>\n",
              "    <tr>\n",
              "      <th>270</th>\n",
              "      <td>no hot water one morning for our shower, expec...</td>\n",
              "      <td>water, -, shower, , discount, , staff, -</td>\n",
              "      <td>40</td>\n",
              "      <td>B</td>\n",
              "      <td>NaN</td>\n",
              "      <td>staying</td>\n",
              "      <td>NaN</td>\n",
              "      <td>NaN</td>\n",
              "      <td>NaN</td>\n",
              "    </tr>\n",
              "    <tr>\n",
              "      <th>306</th>\n",
              "      <td>location and parking availability</td>\n",
              "      <td>Location, , parking availability,</td>\n",
              "      <td>34</td>\n",
              "      <td>B</td>\n",
              "      <td>Availability</td>\n",
              "      <td>parking</td>\n",
              "      <td>BE</td>\n",
              "      <td>NaN</td>\n",
              "      <td>NaN</td>\n",
              "    </tr>\n",
              "    <tr>\n",
              "      <th>308</th>\n",
              "      <td>had a choice of pillows to use</td>\n",
              "      <td>choice, , pillows,</td>\n",
              "      <td>19</td>\n",
              "      <td>B</td>\n",
              "      <td>Choice</td>\n",
              "      <td>NaN</td>\n",
              "      <td>NaN</td>\n",
              "      <td>NaN</td>\n",
              "      <td>NaN</td>\n",
              "    </tr>\n",
              "  </tbody>\n",
              "</table>\n",
              "</div>"
            ],
            "text/plain": [
              "                                              Sentence  ... IHG Dictionary\n",
              "170  we were on the 26th floor so all was peaceful ...  ...            NaN\n",
              "268  only one thing to say is that all the bedroom ...  ...            NaN\n",
              "270  no hot water one morning for our shower, expec...  ...            NaN\n",
              "306                  location and parking availability  ...            NaN\n",
              "308                     had a choice of pillows to use  ...            NaN\n",
              "\n",
              "[5 rows x 9 columns]"
            ]
          },
          "metadata": {
            "tags": []
          },
          "execution_count": 32
        }
      ]
    },
    {
      "cell_type": "code",
      "metadata": {
        "id": "vwY1N51JvCJQ",
        "colab_type": "code",
        "colab": {}
      },
      "source": [
        "def rem_punct(text):\n",
        "  import string\n",
        "  for i in string.punctuation:\n",
        "    text = text.replace(i, \"\")\n",
        "    return text"
      ],
      "execution_count": 0,
      "outputs": []
    },
    {
      "cell_type": "code",
      "metadata": {
        "id": "W5sl1xVyrdOb",
        "colab_type": "code",
        "colab": {
          "base_uri": "https://localhost:8080/",
          "height": 139
        },
        "outputId": "d2d2be0c-b237-4b64-d04e-6ba7f40d7b4b"
      },
      "source": [
        "gcp1['rem_punc'] = gcp1['non entity word to remove'].map(str).apply(rem_punct)"
      ],
      "execution_count": 118,
      "outputs": [
        {
          "output_type": "stream",
          "text": [
            "/usr/local/lib/python3.6/dist-packages/ipykernel_launcher.py:1: SettingWithCopyWarning: \n",
            "A value is trying to be set on a copy of a slice from a DataFrame.\n",
            "Try using .loc[row_indexer,col_indexer] = value instead\n",
            "\n",
            "See the caveats in the documentation: http://pandas.pydata.org/pandas-docs/stable/user_guide/indexing.html#returning-a-view-versus-a-copy\n",
            "  \"\"\"Entry point for launching an IPython kernel.\n"
          ],
          "name": "stderr"
        }
      ]
    },
    {
      "cell_type": "code",
      "metadata": {
        "colab_type": "code",
        "id": "ayLkrSctvAsX",
        "colab": {
          "base_uri": "https://localhost:8080/",
          "height": 419
        },
        "outputId": "1b406a77-939e-4fe8-9154-f0fe99d1dae0"
      },
      "source": [
        "pd.DataFrame([i for i in gcp1['rem_punc'] if str(i) != 'nan'], columns = ['word']). \\\n",
        "word.apply(lambda x: x.split(\",\")).apply(pd.Series).stack().reset_index(name = 'word'). \\\n",
        "word.apply(lambda x: x.split(\" \")).apply(pd.Series).stack().reset_index(name = 'word')"
      ],
      "execution_count": 119,
      "outputs": [
        {
          "output_type": "execute_result",
          "data": {
            "text/html": [
              "<div>\n",
              "<style scoped>\n",
              "    .dataframe tbody tr th:only-of-type {\n",
              "        vertical-align: middle;\n",
              "    }\n",
              "\n",
              "    .dataframe tbody tr th {\n",
              "        vertical-align: top;\n",
              "    }\n",
              "\n",
              "    .dataframe thead th {\n",
              "        text-align: right;\n",
              "    }\n",
              "</style>\n",
              "<table border=\"1\" class=\"dataframe\">\n",
              "  <thead>\n",
              "    <tr style=\"text-align: right;\">\n",
              "      <th></th>\n",
              "      <th>level_0</th>\n",
              "      <th>level_1</th>\n",
              "      <th>word</th>\n",
              "    </tr>\n",
              "  </thead>\n",
              "  <tbody>\n",
              "    <tr>\n",
              "      <th>0</th>\n",
              "      <td>0</td>\n",
              "      <td>0</td>\n",
              "      <td>Floor</td>\n",
              "    </tr>\n",
              "    <tr>\n",
              "      <th>1</th>\n",
              "      <td>1</td>\n",
              "      <td>0</td>\n",
              "      <td></td>\n",
              "    </tr>\n",
              "    <tr>\n",
              "      <th>2</th>\n",
              "      <td>1</td>\n",
              "      <td>1</td>\n",
              "      <td></td>\n",
              "    </tr>\n",
              "    <tr>\n",
              "      <th>3</th>\n",
              "      <td>2</td>\n",
              "      <td>0</td>\n",
              "      <td></td>\n",
              "    </tr>\n",
              "    <tr>\n",
              "      <th>4</th>\n",
              "      <td>2</td>\n",
              "      <td>1</td>\n",
              "      <td>House</td>\n",
              "    </tr>\n",
              "    <tr>\n",
              "      <th>...</th>\n",
              "      <td>...</td>\n",
              "      <td>...</td>\n",
              "      <td>...</td>\n",
              "    </tr>\n",
              "    <tr>\n",
              "      <th>2824</th>\n",
              "      <td>1676</td>\n",
              "      <td>1</td>\n",
              "      <td>Pastry</td>\n",
              "    </tr>\n",
              "    <tr>\n",
              "      <th>2825</th>\n",
              "      <td>1676</td>\n",
              "      <td>2</td>\n",
              "      <td>Line</td>\n",
              "    </tr>\n",
              "    <tr>\n",
              "      <th>2826</th>\n",
              "      <td>1677</td>\n",
              "      <td>0</td>\n",
              "      <td>Coffee</td>\n",
              "    </tr>\n",
              "    <tr>\n",
              "      <th>2827</th>\n",
              "      <td>1677</td>\n",
              "      <td>1</td>\n",
              "      <td>Tea</td>\n",
              "    </tr>\n",
              "    <tr>\n",
              "      <th>2828</th>\n",
              "      <td>1677</td>\n",
              "      <td>2</td>\n",
              "      <td>Bags</td>\n",
              "    </tr>\n",
              "  </tbody>\n",
              "</table>\n",
              "<p>2829 rows × 3 columns</p>\n",
              "</div>"
            ],
            "text/plain": [
              "      level_0  level_1    word\n",
              "0           0        0   Floor\n",
              "1           1        0        \n",
              "2           1        1        \n",
              "3           2        0        \n",
              "4           2        1   House\n",
              "...       ...      ...     ...\n",
              "2824     1676        1  Pastry\n",
              "2825     1676        2    Line\n",
              "2826     1677        0  Coffee\n",
              "2827     1677        1     Tea\n",
              "2828     1677        2    Bags\n",
              "\n",
              "[2829 rows x 3 columns]"
            ]
          },
          "metadata": {
            "tags": []
          },
          "execution_count": 119
        }
      ]
    },
    {
      "cell_type": "code",
      "metadata": {
        "id": "Fr9BIlQouliu",
        "colab_type": "code",
        "colab": {
          "base_uri": "https://localhost:8080/",
          "height": 221
        },
        "outputId": "7b22c32f-db13-4a03-ccb0-ed2b39dd4310"
      },
      "source": [
        "pd.DataFrame([i for i in gcp1['Add to Dictionary'] if str(i) != 'nan'], columns = ['word']). \\\n",
        "word.apply(lambda x :x.replace(\".\",\",\")).apply(lambda x:x.split(\",\")).apply(pd.Series).stack(). \\\n",
        "reset_index(name = 'word').word.apply(lambda x: x.strip())"
      ],
      "execution_count": 230,
      "outputs": [
        {
          "output_type": "execute_result",
          "data": {
            "text/plain": [
              "0       service\n",
              "1         floor\n",
              "2         thing\n",
              "3        choice\n",
              "4      nothings\n",
              "         ...   \n",
              "143        sick\n",
              "144         con\n",
              "145        cons\n",
              "146         pro\n",
              "147        pros\n",
              "Name: word, Length: 148, dtype: object"
            ]
          },
          "metadata": {
            "tags": []
          },
          "execution_count": 230
        }
      ]
    },
    {
      "cell_type": "code",
      "metadata": {
        "id": "tFzNcdxP0smR",
        "colab_type": "code",
        "colab": {
          "base_uri": "https://localhost:8080/",
          "height": 221
        },
        "outputId": "f26ea7ab-4180-4fa6-ece3-898749a89dcd"
      },
      "source": [
        "list1 = pd.DataFrame([i for i in gcp1['Add to Dictionary'] if str(i) != 'nan'], columns = ['word']). \\\n",
        "word.apply(lambda x :x.replace(\".\",\",\")).apply(lambda x:x.split(\",\")).apply(pd.Series).stack(). \\\n",
        "reset_index(name = 'word').word.apply(lambda x: x.strip())\n",
        "\n",
        "list1"
      ],
      "execution_count": 231,
      "outputs": [
        {
          "output_type": "execute_result",
          "data": {
            "text/plain": [
              "0       service\n",
              "1         floor\n",
              "2         thing\n",
              "3        choice\n",
              "4      nothings\n",
              "         ...   \n",
              "143        sick\n",
              "144         con\n",
              "145        cons\n",
              "146         pro\n",
              "147        pros\n",
              "Name: word, Length: 148, dtype: object"
            ]
          },
          "metadata": {
            "tags": []
          },
          "execution_count": 231
        }
      ]
    },
    {
      "cell_type": "code",
      "metadata": {
        "id": "2o7fHmae5CWg",
        "colab_type": "code",
        "colab": {
          "base_uri": "https://localhost:8080/",
          "height": 221
        },
        "outputId": "29cc5ab2-5d32-4e1d-eae2-0a21c989dea2"
      },
      "source": [
        "list1"
      ],
      "execution_count": 232,
      "outputs": [
        {
          "output_type": "execute_result",
          "data": {
            "text/plain": [
              "0       service\n",
              "1         floor\n",
              "2         thing\n",
              "3        choice\n",
              "4      nothings\n",
              "         ...   \n",
              "143        sick\n",
              "144         con\n",
              "145        cons\n",
              "146         pro\n",
              "147        pros\n",
              "Name: word, Length: 148, dtype: object"
            ]
          },
          "metadata": {
            "tags": []
          },
          "execution_count": 232
        }
      ]
    },
    {
      "cell_type": "code",
      "metadata": {
        "id": "N4eYw0X-5Evt",
        "colab_type": "code",
        "colab": {}
      },
      "source": [
        ""
      ],
      "execution_count": 0,
      "outputs": []
    }
  ]
}