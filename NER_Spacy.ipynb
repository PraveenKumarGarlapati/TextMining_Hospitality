{
  "nbformat": 4,
  "nbformat_minor": 0,
  "metadata": {
    "colab": {
      "name": "Welcome To Colaboratory",
      "provenance": [],
      "collapsed_sections": [],
      "toc_visible": true
    },
    "kernelspec": {
      "display_name": "Python 3",
      "name": "python3"
    }
  },
  "cells": [
    {
      "cell_type": "code",
      "metadata": {
        "id": "ilVUGggyVKpR",
        "colab_type": "code",
        "colab": {}
      },
      "source": [
        "#Importing the data\n",
        "import pandas as pd\n",
        "data = pd.read_excel('/content/US_IHG V4.xlsx', sheet_name = 'data')"
      ],
      "execution_count": 0,
      "outputs": []
    },
    {
      "cell_type": "code",
      "metadata": {
        "id": "uMlGYdhbVYBP",
        "colab_type": "code",
        "colab": {}
      },
      "source": [
        "#Split the Reviews. List of sentences\n",
        "data['split_rev'] = data.REVIEW_TXT.apply(lambda x: x.split(\".\"))"
      ],
      "execution_count": 0,
      "outputs": []
    },
    {
      "cell_type": "code",
      "metadata": {
        "id": "leNZAPP_VOXv",
        "colab_type": "code",
        "colab": {}
      },
      "source": [
        "#Break down each sentence to rows \n",
        "#Creating a new ID for each of the sentence\n",
        "data_s = data.set_index('HB_SOCIAL_INSIGHT_REVIEW_ID').split_rev.apply(pd.Series).stack().reset_index(name = 'Sentence')\n",
        "data_s['ID_SID'] = data_s['HB_SOCIAL_INSIGHT_REVIEW_ID'] + \"_\" + (data_s['level_1'] + 1).map(str)"
      ],
      "execution_count": 0,
      "outputs": []
    },
    {
      "cell_type": "code",
      "metadata": {
        "id": "YlebN6nwVtrt",
        "colab_type": "code",
        "colab": {}
      },
      "source": [
        "#Drop the unnecessary\n",
        "data_s = data_s.drop(columns = 'level_1')"
      ],
      "execution_count": 0,
      "outputs": []
    },
    {
      "cell_type": "code",
      "metadata": {
        "id": "rsuYp9X4Vtus",
        "colab_type": "code",
        "colab": {}
      },
      "source": [
        "#Bring in the actual Review against each of the IDs\n",
        "data_s1 = data_s.merge(data[['HB_SOCIAL_INSIGHT_REVIEW_ID','REVIEW_TXT']]).reindex(columns = ['HB_SOCIAL_INSIGHT_REVIEW_ID',\n",
        "                                                                                'REVIEW_TXT','ID_SID','Sentence'])\n"
      ],
      "execution_count": 0,
      "outputs": []
    },
    {
      "cell_type": "code",
      "metadata": {
        "id": "4AqnMqxrVS6X",
        "colab_type": "code",
        "colab": {
          "base_uri": "https://localhost:8080/",
          "height": 589
        },
        "outputId": "9ac4c5c1-9207-4bde-fd75-8acee5b7b921"
      },
      "source": [
        "data_s1"
      ],
      "execution_count": 15,
      "outputs": [
        {
          "output_type": "execute_result",
          "data": {
            "text/html": [
              "<div>\n",
              "<style scoped>\n",
              "    .dataframe tbody tr th:only-of-type {\n",
              "        vertical-align: middle;\n",
              "    }\n",
              "\n",
              "    .dataframe tbody tr th {\n",
              "        vertical-align: top;\n",
              "    }\n",
              "\n",
              "    .dataframe thead th {\n",
              "        text-align: right;\n",
              "    }\n",
              "</style>\n",
              "<table border=\"1\" class=\"dataframe\">\n",
              "  <thead>\n",
              "    <tr style=\"text-align: right;\">\n",
              "      <th></th>\n",
              "      <th>HB_SOCIAL_INSIGHT_REVIEW_ID</th>\n",
              "      <th>REVIEW_TXT</th>\n",
              "      <th>ID_SID</th>\n",
              "      <th>Sentence</th>\n",
              "    </tr>\n",
              "  </thead>\n",
              "  <tbody>\n",
              "    <tr>\n",
              "      <th>0</th>\n",
              "      <td>BKG-20190696110</td>\n",
              "      <td>Comfortable room. great location. good facilities</td>\n",
              "      <td>BKG-20190696110_1</td>\n",
              "      <td>Comfortable room</td>\n",
              "    </tr>\n",
              "    <tr>\n",
              "      <th>1</th>\n",
              "      <td>BKG-20190696110</td>\n",
              "      <td>Comfortable room. great location. good facilities</td>\n",
              "      <td>BKG-20190696110_2</td>\n",
              "      <td>great location</td>\n",
              "    </tr>\n",
              "    <tr>\n",
              "      <th>2</th>\n",
              "      <td>BKG-20190696110</td>\n",
              "      <td>Comfortable room. great location. good facilities</td>\n",
              "      <td>BKG-20190696110_3</td>\n",
              "      <td>good facilities</td>\n",
              "    </tr>\n",
              "    <tr>\n",
              "      <th>3</th>\n",
              "      <td>BKG-201909713799</td>\n",
              "      <td>Very good location great staff and great exper...</td>\n",
              "      <td>BKG-201909713799_1</td>\n",
              "      <td>Very good location great staff and great exper...</td>\n",
              "    </tr>\n",
              "    <tr>\n",
              "      <th>4</th>\n",
              "      <td>BKG-201909713799</td>\n",
              "      <td>Very good location great staff and great exper...</td>\n",
              "      <td>BKG-201909713799_2</td>\n",
              "      <td>Honestly nothings</td>\n",
              "    </tr>\n",
              "    <tr>\n",
              "      <th>...</th>\n",
              "      <td>...</td>\n",
              "      <td>...</td>\n",
              "      <td>...</td>\n",
              "      <td>...</td>\n",
              "    </tr>\n",
              "    <tr>\n",
              "      <th>1170</th>\n",
              "      <td>GGL-20190685608</td>\n",
              "      <td>Staff very friendly and helpful. Nice size roo...</td>\n",
              "      <td>GGL-20190685608_3</td>\n",
              "      <td>The breakfast was fine if you like a cooked b...</td>\n",
              "    </tr>\n",
              "    <tr>\n",
              "      <th>1171</th>\n",
              "      <td>GGL-20190685608</td>\n",
              "      <td>Staff very friendly and helpful. Nice size roo...</td>\n",
              "      <td>GGL-20190685608_4</td>\n",
              "      <td>Also the bananas were very over ripe</td>\n",
              "    </tr>\n",
              "    <tr>\n",
              "      <th>1172</th>\n",
              "      <td>GGL-20190685608</td>\n",
              "      <td>Staff very friendly and helpful. Nice size roo...</td>\n",
              "      <td>GGL-20190685608_5</td>\n",
              "      <td>And most importantly no de caff tea bags</td>\n",
              "    </tr>\n",
              "    <tr>\n",
              "      <th>1173</th>\n",
              "      <td>GGL-20190685608</td>\n",
              "      <td>Staff very friendly and helpful. Nice size roo...</td>\n",
              "      <td>GGL-20190685608_6</td>\n",
              "      <td>However overall a great stay for a decent price</td>\n",
              "    </tr>\n",
              "    <tr>\n",
              "      <th>1174</th>\n",
              "      <td>GGL-20190685608</td>\n",
              "      <td>Staff very friendly and helpful. Nice size roo...</td>\n",
              "      <td>GGL-20190685608_7</td>\n",
              "      <td></td>\n",
              "    </tr>\n",
              "  </tbody>\n",
              "</table>\n",
              "<p>1175 rows × 4 columns</p>\n",
              "</div>"
            ],
            "text/plain": [
              "     HB_SOCIAL_INSIGHT_REVIEW_ID  ...                                           Sentence\n",
              "0                BKG-20190696110  ...                                   Comfortable room\n",
              "1                BKG-20190696110  ...                                     great location\n",
              "2                BKG-20190696110  ...                                    good facilities\n",
              "3               BKG-201909713799  ...  Very good location great staff and great exper...\n",
              "4               BKG-201909713799  ...                                  Honestly nothings\n",
              "...                          ...  ...                                                ...\n",
              "1170             GGL-20190685608  ...   The breakfast was fine if you like a cooked b...\n",
              "1171             GGL-20190685608  ...               Also the bananas were very over ripe\n",
              "1172             GGL-20190685608  ...           And most importantly no de caff tea bags\n",
              "1173             GGL-20190685608  ...    However overall a great stay for a decent price\n",
              "1174             GGL-20190685608  ...                                                   \n",
              "\n",
              "[1175 rows x 4 columns]"
            ]
          },
          "metadata": {
            "tags": []
          },
          "execution_count": 15
        }
      ]
    },
    {
      "cell_type": "code",
      "metadata": {
        "id": "qbh2Pdpjc8_8",
        "colab_type": "code",
        "colab": {}
      },
      "source": [
        "import spacy\n",
        "nlp = spacy.load(\"en_core_web_sm\")\n",
        "\n",
        "def entities_spacy(text):\n",
        "  text = nlp(text)\n",
        "  ent_list = []\n",
        "  for i in text.ents:\n",
        "    ent_list.append((i.text, i.label_))\n",
        "  return ent_list"
      ],
      "execution_count": 0,
      "outputs": []
    },
    {
      "cell_type": "code",
      "metadata": {
        "id": "oBDK-rtpdLls",
        "colab_type": "code",
        "colab": {
          "base_uri": "https://localhost:8080/",
          "height": 589
        },
        "outputId": "3c68d5c9-2b9e-40ac-ebfc-3d749a3f7940"
      },
      "source": [
        "data_s1['NER_spacy'] = data_s1.Sentence.apply(lambda x: entities_spacy(x))\n",
        "data_s1"
      ],
      "execution_count": 25,
      "outputs": [
        {
          "output_type": "execute_result",
          "data": {
            "text/html": [
              "<div>\n",
              "<style scoped>\n",
              "    .dataframe tbody tr th:only-of-type {\n",
              "        vertical-align: middle;\n",
              "    }\n",
              "\n",
              "    .dataframe tbody tr th {\n",
              "        vertical-align: top;\n",
              "    }\n",
              "\n",
              "    .dataframe thead th {\n",
              "        text-align: right;\n",
              "    }\n",
              "</style>\n",
              "<table border=\"1\" class=\"dataframe\">\n",
              "  <thead>\n",
              "    <tr style=\"text-align: right;\">\n",
              "      <th></th>\n",
              "      <th>HB_SOCIAL_INSIGHT_REVIEW_ID</th>\n",
              "      <th>REVIEW_TXT</th>\n",
              "      <th>ID_SID</th>\n",
              "      <th>Sentence</th>\n",
              "      <th>NER_spacy</th>\n",
              "    </tr>\n",
              "  </thead>\n",
              "  <tbody>\n",
              "    <tr>\n",
              "      <th>0</th>\n",
              "      <td>BKG-20190696110</td>\n",
              "      <td>Comfortable room. great location. good facilities</td>\n",
              "      <td>BKG-20190696110_1</td>\n",
              "      <td>Comfortable room</td>\n",
              "      <td>[]</td>\n",
              "    </tr>\n",
              "    <tr>\n",
              "      <th>1</th>\n",
              "      <td>BKG-20190696110</td>\n",
              "      <td>Comfortable room. great location. good facilities</td>\n",
              "      <td>BKG-20190696110_2</td>\n",
              "      <td>great location</td>\n",
              "      <td>[]</td>\n",
              "    </tr>\n",
              "    <tr>\n",
              "      <th>2</th>\n",
              "      <td>BKG-20190696110</td>\n",
              "      <td>Comfortable room. great location. good facilities</td>\n",
              "      <td>BKG-20190696110_3</td>\n",
              "      <td>good facilities</td>\n",
              "      <td>[]</td>\n",
              "    </tr>\n",
              "    <tr>\n",
              "      <th>3</th>\n",
              "      <td>BKG-201909713799</td>\n",
              "      <td>Very good location great staff and great exper...</td>\n",
              "      <td>BKG-201909713799_1</td>\n",
              "      <td>Very good location great staff and great exper...</td>\n",
              "      <td>[(second, ORDINAL)]</td>\n",
              "    </tr>\n",
              "    <tr>\n",
              "      <th>4</th>\n",
              "      <td>BKG-201909713799</td>\n",
              "      <td>Very good location great staff and great exper...</td>\n",
              "      <td>BKG-201909713799_2</td>\n",
              "      <td>Honestly nothings</td>\n",
              "      <td>[]</td>\n",
              "    </tr>\n",
              "    <tr>\n",
              "      <th>...</th>\n",
              "      <td>...</td>\n",
              "      <td>...</td>\n",
              "      <td>...</td>\n",
              "      <td>...</td>\n",
              "      <td>...</td>\n",
              "    </tr>\n",
              "    <tr>\n",
              "      <th>1170</th>\n",
              "      <td>GGL-20190685608</td>\n",
              "      <td>Staff very friendly and helpful. Nice size roo...</td>\n",
              "      <td>GGL-20190685608_3</td>\n",
              "      <td>The breakfast was fine if you like a cooked b...</td>\n",
              "      <td>[]</td>\n",
              "    </tr>\n",
              "    <tr>\n",
              "      <th>1171</th>\n",
              "      <td>GGL-20190685608</td>\n",
              "      <td>Staff very friendly and helpful. Nice size roo...</td>\n",
              "      <td>GGL-20190685608_4</td>\n",
              "      <td>Also the bananas were very over ripe</td>\n",
              "      <td>[]</td>\n",
              "    </tr>\n",
              "    <tr>\n",
              "      <th>1172</th>\n",
              "      <td>GGL-20190685608</td>\n",
              "      <td>Staff very friendly and helpful. Nice size roo...</td>\n",
              "      <td>GGL-20190685608_5</td>\n",
              "      <td>And most importantly no de caff tea bags</td>\n",
              "      <td>[]</td>\n",
              "    </tr>\n",
              "    <tr>\n",
              "      <th>1173</th>\n",
              "      <td>GGL-20190685608</td>\n",
              "      <td>Staff very friendly and helpful. Nice size roo...</td>\n",
              "      <td>GGL-20190685608_6</td>\n",
              "      <td>However overall a great stay for a decent price</td>\n",
              "      <td>[]</td>\n",
              "    </tr>\n",
              "    <tr>\n",
              "      <th>1174</th>\n",
              "      <td>GGL-20190685608</td>\n",
              "      <td>Staff very friendly and helpful. Nice size roo...</td>\n",
              "      <td>GGL-20190685608_7</td>\n",
              "      <td></td>\n",
              "      <td>[]</td>\n",
              "    </tr>\n",
              "  </tbody>\n",
              "</table>\n",
              "<p>1175 rows × 5 columns</p>\n",
              "</div>"
            ],
            "text/plain": [
              "     HB_SOCIAL_INSIGHT_REVIEW_ID  ...            NER_spacy\n",
              "0                BKG-20190696110  ...                   []\n",
              "1                BKG-20190696110  ...                   []\n",
              "2                BKG-20190696110  ...                   []\n",
              "3               BKG-201909713799  ...  [(second, ORDINAL)]\n",
              "4               BKG-201909713799  ...                   []\n",
              "...                          ...  ...                  ...\n",
              "1170             GGL-20190685608  ...                   []\n",
              "1171             GGL-20190685608  ...                   []\n",
              "1172             GGL-20190685608  ...                   []\n",
              "1173             GGL-20190685608  ...                   []\n",
              "1174             GGL-20190685608  ...                   []\n",
              "\n",
              "[1175 rows x 5 columns]"
            ]
          },
          "metadata": {
            "tags": []
          },
          "execution_count": 25
        }
      ]
    },
    {
      "cell_type": "code",
      "metadata": {
        "id": "YzVeRSIkedaI",
        "colab_type": "code",
        "colab": {}
      },
      "source": [
        ""
      ],
      "execution_count": 0,
      "outputs": []
    }
  ]
}