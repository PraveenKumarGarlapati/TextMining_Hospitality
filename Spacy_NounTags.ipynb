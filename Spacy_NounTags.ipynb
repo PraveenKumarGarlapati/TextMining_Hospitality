{
  "nbformat": 4,
  "nbformat_minor": 0,
  "metadata": {
    "colab": {
      "name": "Welcome To Colaboratory",
      "provenance": [],
      "collapsed_sections": [],
      "include_colab_link": true
    },
    "kernelspec": {
      "display_name": "Python 3",
      "name": "python3"
    }
  },
  "cells": [
    {
      "cell_type": "markdown",
      "metadata": {
        "id": "view-in-github",
        "colab_type": "text"
      },
      "source": [
        "<a href=\"https://colab.research.google.com/github/PraveenKumarGarlapati/TextMining_Hospitality/blob/master/Spacy_NounTags.ipynb\" target=\"_parent\"><img src=\"https://colab.research.google.com/assets/colab-badge.svg\" alt=\"Open In Colab\"/></a>"
      ]
    },
    {
      "cell_type": "code",
      "metadata": {
        "id": "ilVUGggyVKpR",
        "colab_type": "code",
        "colab": {}
      },
      "source": [
        "#Importing the data\n",
        "import pandas as pd\n",
        "data = pd.read_excel('/content/US_IHG V4.xlsx', sheet_name = 'data')"
      ],
      "execution_count": 0,
      "outputs": []
    },
    {
      "cell_type": "code",
      "metadata": {
        "id": "uMlGYdhbVYBP",
        "colab_type": "code",
        "colab": {}
      },
      "source": [
        "#Split the Reviews. List of sentences\n",
        "data['split_rev'] = data.REVIEW_TXT.apply(lambda x: x.split(\".\"))"
      ],
      "execution_count": 0,
      "outputs": []
    },
    {
      "cell_type": "code",
      "metadata": {
        "id": "leNZAPP_VOXv",
        "colab_type": "code",
        "colab": {}
      },
      "source": [
        "#Break down each sentence to rows \n",
        "#Creating a new ID for each of the sentence\n",
        "data_s = data.set_index('HB_SOCIAL_INSIGHT_REVIEW_ID').split_rev.apply(pd.Series).stack().reset_index(name = 'Sentence')\n",
        "data_s['ID_SID'] = data_s['HB_SOCIAL_INSIGHT_REVIEW_ID'] + \"_\" + (data_s['level_1'] + 1).map(str)"
      ],
      "execution_count": 0,
      "outputs": []
    },
    {
      "cell_type": "code",
      "metadata": {
        "id": "YlebN6nwVtrt",
        "colab_type": "code",
        "colab": {}
      },
      "source": [
        "#Drop the unnecessary\n",
        "data_s = data_s.drop(columns = 'level_1')"
      ],
      "execution_count": 0,
      "outputs": []
    },
    {
      "cell_type": "code",
      "metadata": {
        "id": "rsuYp9X4Vtus",
        "colab_type": "code",
        "colab": {}
      },
      "source": [
        "#Bring in the actual Review against each of the IDs\n",
        "data_s1 = data_s.merge(data[['HB_SOCIAL_INSIGHT_REVIEW_ID','REVIEW_TXT']]).reindex(columns = ['HB_SOCIAL_INSIGHT_REVIEW_ID',\n",
        "                                                                                'REVIEW_TXT','ID_SID','Sentence'])\n"
      ],
      "execution_count": 0,
      "outputs": []
    },
    {
      "cell_type": "code",
      "metadata": {
        "id": "4AqnMqxrVS6X",
        "colab_type": "code",
        "outputId": "8cbdbaed-967e-4fcf-e79e-32444018b1bb",
        "colab": {
          "base_uri": "https://localhost:8080/",
          "height": 204
        }
      },
      "source": [
        "data_s1.head()"
      ],
      "execution_count": 7,
      "outputs": [
        {
          "output_type": "execute_result",
          "data": {
            "text/html": [
              "<div>\n",
              "<style scoped>\n",
              "    .dataframe tbody tr th:only-of-type {\n",
              "        vertical-align: middle;\n",
              "    }\n",
              "\n",
              "    .dataframe tbody tr th {\n",
              "        vertical-align: top;\n",
              "    }\n",
              "\n",
              "    .dataframe thead th {\n",
              "        text-align: right;\n",
              "    }\n",
              "</style>\n",
              "<table border=\"1\" class=\"dataframe\">\n",
              "  <thead>\n",
              "    <tr style=\"text-align: right;\">\n",
              "      <th></th>\n",
              "      <th>HB_SOCIAL_INSIGHT_REVIEW_ID</th>\n",
              "      <th>REVIEW_TXT</th>\n",
              "      <th>ID_SID</th>\n",
              "      <th>Sentence</th>\n",
              "    </tr>\n",
              "  </thead>\n",
              "  <tbody>\n",
              "    <tr>\n",
              "      <th>0</th>\n",
              "      <td>BKG-20190696110</td>\n",
              "      <td>Comfortable room. great location. good facilities</td>\n",
              "      <td>BKG-20190696110_1</td>\n",
              "      <td>Comfortable room</td>\n",
              "    </tr>\n",
              "    <tr>\n",
              "      <th>1</th>\n",
              "      <td>BKG-20190696110</td>\n",
              "      <td>Comfortable room. great location. good facilities</td>\n",
              "      <td>BKG-20190696110_2</td>\n",
              "      <td>great location</td>\n",
              "    </tr>\n",
              "    <tr>\n",
              "      <th>2</th>\n",
              "      <td>BKG-20190696110</td>\n",
              "      <td>Comfortable room. great location. good facilities</td>\n",
              "      <td>BKG-20190696110_3</td>\n",
              "      <td>good facilities</td>\n",
              "    </tr>\n",
              "    <tr>\n",
              "      <th>3</th>\n",
              "      <td>BKG-201909713799</td>\n",
              "      <td>Very good location great staff and great exper...</td>\n",
              "      <td>BKG-201909713799_1</td>\n",
              "      <td>Very good location great staff and great exper...</td>\n",
              "    </tr>\n",
              "    <tr>\n",
              "      <th>4</th>\n",
              "      <td>BKG-201909713799</td>\n",
              "      <td>Very good location great staff and great exper...</td>\n",
              "      <td>BKG-201909713799_2</td>\n",
              "      <td>Honestly nothings</td>\n",
              "    </tr>\n",
              "  </tbody>\n",
              "</table>\n",
              "</div>"
            ],
            "text/plain": [
              "  HB_SOCIAL_INSIGHT_REVIEW_ID  ...                                           Sentence\n",
              "0             BKG-20190696110  ...                                   Comfortable room\n",
              "1             BKG-20190696110  ...                                     great location\n",
              "2             BKG-20190696110  ...                                    good facilities\n",
              "3            BKG-201909713799  ...  Very good location great staff and great exper...\n",
              "4            BKG-201909713799  ...                                  Honestly nothings\n",
              "\n",
              "[5 rows x 4 columns]"
            ]
          },
          "metadata": {
            "tags": []
          },
          "execution_count": 7
        }
      ]
    },
    {
      "cell_type": "code",
      "metadata": {
        "id": "qbh2Pdpjc8_8",
        "colab_type": "code",
        "colab": {}
      },
      "source": [
        "import spacy\n",
        "nlp = spacy.load(\"en_core_web_sm\")\n",
        "\n",
        "def entities_spacy(text):\n",
        "  text = nlp(text)\n",
        "  ent_list = []\n",
        "  for i in text.ents:\n",
        "    ent_list.append((i.text, i.label_))\n",
        "  return ent_list"
      ],
      "execution_count": 0,
      "outputs": []
    },
    {
      "cell_type": "code",
      "metadata": {
        "id": "oBDK-rtpdLls",
        "colab_type": "code",
        "outputId": "ae594021-6648-4a39-d111-3806a1697f60",
        "colab": {
          "base_uri": "https://localhost:8080/",
          "height": 419
        }
      },
      "source": [
        "data_s1['NER_spacy'] = data_s1.Sentence.apply(lambda x: entities_spacy(x))\n",
        "data_s1"
      ],
      "execution_count": 9,
      "outputs": [
        {
          "output_type": "execute_result",
          "data": {
            "text/html": [
              "<div>\n",
              "<style scoped>\n",
              "    .dataframe tbody tr th:only-of-type {\n",
              "        vertical-align: middle;\n",
              "    }\n",
              "\n",
              "    .dataframe tbody tr th {\n",
              "        vertical-align: top;\n",
              "    }\n",
              "\n",
              "    .dataframe thead th {\n",
              "        text-align: right;\n",
              "    }\n",
              "</style>\n",
              "<table border=\"1\" class=\"dataframe\">\n",
              "  <thead>\n",
              "    <tr style=\"text-align: right;\">\n",
              "      <th></th>\n",
              "      <th>HB_SOCIAL_INSIGHT_REVIEW_ID</th>\n",
              "      <th>REVIEW_TXT</th>\n",
              "      <th>ID_SID</th>\n",
              "      <th>Sentence</th>\n",
              "      <th>NER_spacy</th>\n",
              "    </tr>\n",
              "  </thead>\n",
              "  <tbody>\n",
              "    <tr>\n",
              "      <th>0</th>\n",
              "      <td>BKG-20190696110</td>\n",
              "      <td>Comfortable room. great location. good facilities</td>\n",
              "      <td>BKG-20190696110_1</td>\n",
              "      <td>Comfortable room</td>\n",
              "      <td>[]</td>\n",
              "    </tr>\n",
              "    <tr>\n",
              "      <th>1</th>\n",
              "      <td>BKG-20190696110</td>\n",
              "      <td>Comfortable room. great location. good facilities</td>\n",
              "      <td>BKG-20190696110_2</td>\n",
              "      <td>great location</td>\n",
              "      <td>[]</td>\n",
              "    </tr>\n",
              "    <tr>\n",
              "      <th>2</th>\n",
              "      <td>BKG-20190696110</td>\n",
              "      <td>Comfortable room. great location. good facilities</td>\n",
              "      <td>BKG-20190696110_3</td>\n",
              "      <td>good facilities</td>\n",
              "      <td>[]</td>\n",
              "    </tr>\n",
              "    <tr>\n",
              "      <th>3</th>\n",
              "      <td>BKG-201909713799</td>\n",
              "      <td>Very good location great staff and great exper...</td>\n",
              "      <td>BKG-201909713799_1</td>\n",
              "      <td>Very good location great staff and great exper...</td>\n",
              "      <td>[(second, ORDINAL)]</td>\n",
              "    </tr>\n",
              "    <tr>\n",
              "      <th>4</th>\n",
              "      <td>BKG-201909713799</td>\n",
              "      <td>Very good location great staff and great exper...</td>\n",
              "      <td>BKG-201909713799_2</td>\n",
              "      <td>Honestly nothings</td>\n",
              "      <td>[]</td>\n",
              "    </tr>\n",
              "    <tr>\n",
              "      <th>...</th>\n",
              "      <td>...</td>\n",
              "      <td>...</td>\n",
              "      <td>...</td>\n",
              "      <td>...</td>\n",
              "      <td>...</td>\n",
              "    </tr>\n",
              "    <tr>\n",
              "      <th>1170</th>\n",
              "      <td>GGL-20190685608</td>\n",
              "      <td>Staff very friendly and helpful. Nice size roo...</td>\n",
              "      <td>GGL-20190685608_3</td>\n",
              "      <td>The breakfast was fine if you like a cooked b...</td>\n",
              "      <td>[]</td>\n",
              "    </tr>\n",
              "    <tr>\n",
              "      <th>1171</th>\n",
              "      <td>GGL-20190685608</td>\n",
              "      <td>Staff very friendly and helpful. Nice size roo...</td>\n",
              "      <td>GGL-20190685608_4</td>\n",
              "      <td>Also the bananas were very over ripe</td>\n",
              "      <td>[]</td>\n",
              "    </tr>\n",
              "    <tr>\n",
              "      <th>1172</th>\n",
              "      <td>GGL-20190685608</td>\n",
              "      <td>Staff very friendly and helpful. Nice size roo...</td>\n",
              "      <td>GGL-20190685608_5</td>\n",
              "      <td>And most importantly no de caff tea bags</td>\n",
              "      <td>[]</td>\n",
              "    </tr>\n",
              "    <tr>\n",
              "      <th>1173</th>\n",
              "      <td>GGL-20190685608</td>\n",
              "      <td>Staff very friendly and helpful. Nice size roo...</td>\n",
              "      <td>GGL-20190685608_6</td>\n",
              "      <td>However overall a great stay for a decent price</td>\n",
              "      <td>[]</td>\n",
              "    </tr>\n",
              "    <tr>\n",
              "      <th>1174</th>\n",
              "      <td>GGL-20190685608</td>\n",
              "      <td>Staff very friendly and helpful. Nice size roo...</td>\n",
              "      <td>GGL-20190685608_7</td>\n",
              "      <td></td>\n",
              "      <td>[]</td>\n",
              "    </tr>\n",
              "  </tbody>\n",
              "</table>\n",
              "<p>1175 rows × 5 columns</p>\n",
              "</div>"
            ],
            "text/plain": [
              "     HB_SOCIAL_INSIGHT_REVIEW_ID  ...            NER_spacy\n",
              "0                BKG-20190696110  ...                   []\n",
              "1                BKG-20190696110  ...                   []\n",
              "2                BKG-20190696110  ...                   []\n",
              "3               BKG-201909713799  ...  [(second, ORDINAL)]\n",
              "4               BKG-201909713799  ...                   []\n",
              "...                          ...  ...                  ...\n",
              "1170             GGL-20190685608  ...                   []\n",
              "1171             GGL-20190685608  ...                   []\n",
              "1172             GGL-20190685608  ...                   []\n",
              "1173             GGL-20190685608  ...                   []\n",
              "1174             GGL-20190685608  ...                   []\n",
              "\n",
              "[1175 rows x 5 columns]"
            ]
          },
          "metadata": {
            "tags": []
          },
          "execution_count": 9
        }
      ]
    },
    {
      "cell_type": "code",
      "metadata": {
        "id": "YzVeRSIkedaI",
        "colab_type": "code",
        "colab": {}
      },
      "source": [
        "def pos_tag(a):\n",
        "  a = nlp(a)\n",
        "  list1 = []\n",
        "  for i in a:\n",
        "    list1.append((i, i.tag_))\n",
        "  return list1\n"
      ],
      "execution_count": 0,
      "outputs": []
    },
    {
      "cell_type": "code",
      "metadata": {
        "id": "ZgqtO0pAB_d9",
        "colab_type": "code",
        "colab": {
          "base_uri": "https://localhost:8080/",
          "height": 289
        },
        "outputId": "316daf5d-a3cb-4619-f8ff-ae5ecc65b3f1"
      },
      "source": [
        "data_s1['POS_tags'] = data_s1.Sentence.apply(lambda x: pos_tag(x))\n",
        "data_s1.head()"
      ],
      "execution_count": 12,
      "outputs": [
        {
          "output_type": "execute_result",
          "data": {
            "text/html": [
              "<div>\n",
              "<style scoped>\n",
              "    .dataframe tbody tr th:only-of-type {\n",
              "        vertical-align: middle;\n",
              "    }\n",
              "\n",
              "    .dataframe tbody tr th {\n",
              "        vertical-align: top;\n",
              "    }\n",
              "\n",
              "    .dataframe thead th {\n",
              "        text-align: right;\n",
              "    }\n",
              "</style>\n",
              "<table border=\"1\" class=\"dataframe\">\n",
              "  <thead>\n",
              "    <tr style=\"text-align: right;\">\n",
              "      <th></th>\n",
              "      <th>HB_SOCIAL_INSIGHT_REVIEW_ID</th>\n",
              "      <th>REVIEW_TXT</th>\n",
              "      <th>ID_SID</th>\n",
              "      <th>Sentence</th>\n",
              "      <th>NER_spacy</th>\n",
              "      <th>POS_tags</th>\n",
              "    </tr>\n",
              "  </thead>\n",
              "  <tbody>\n",
              "    <tr>\n",
              "      <th>0</th>\n",
              "      <td>BKG-20190696110</td>\n",
              "      <td>Comfortable room. great location. good facilities</td>\n",
              "      <td>BKG-20190696110_1</td>\n",
              "      <td>Comfortable room</td>\n",
              "      <td>[]</td>\n",
              "      <td>[(Comfortable, JJ), (room, NN)]</td>\n",
              "    </tr>\n",
              "    <tr>\n",
              "      <th>1</th>\n",
              "      <td>BKG-20190696110</td>\n",
              "      <td>Comfortable room. great location. good facilities</td>\n",
              "      <td>BKG-20190696110_2</td>\n",
              "      <td>great location</td>\n",
              "      <td>[]</td>\n",
              "      <td>[( , _SP), (great, JJ), (location, NN)]</td>\n",
              "    </tr>\n",
              "    <tr>\n",
              "      <th>2</th>\n",
              "      <td>BKG-20190696110</td>\n",
              "      <td>Comfortable room. great location. good facilities</td>\n",
              "      <td>BKG-20190696110_3</td>\n",
              "      <td>good facilities</td>\n",
              "      <td>[]</td>\n",
              "      <td>[( , _SP), (good, JJ), (facilities, NNS)]</td>\n",
              "    </tr>\n",
              "    <tr>\n",
              "      <th>3</th>\n",
              "      <td>BKG-201909713799</td>\n",
              "      <td>Very good location great staff and great exper...</td>\n",
              "      <td>BKG-201909713799_1</td>\n",
              "      <td>Very good location great staff and great exper...</td>\n",
              "      <td>[(second, ORDINAL)]</td>\n",
              "      <td>[(Very, RB), (good, JJ), (location, NN), (grea...</td>\n",
              "    </tr>\n",
              "    <tr>\n",
              "      <th>4</th>\n",
              "      <td>BKG-201909713799</td>\n",
              "      <td>Very good location great staff and great exper...</td>\n",
              "      <td>BKG-201909713799_2</td>\n",
              "      <td>Honestly nothings</td>\n",
              "      <td>[]</td>\n",
              "      <td>[( , _SP), (Honestly, RB), (nothings, VBZ)]</td>\n",
              "    </tr>\n",
              "  </tbody>\n",
              "</table>\n",
              "</div>"
            ],
            "text/plain": [
              "  HB_SOCIAL_INSIGHT_REVIEW_ID  ...                                           POS_tags\n",
              "0             BKG-20190696110  ...                    [(Comfortable, JJ), (room, NN)]\n",
              "1             BKG-20190696110  ...            [( , _SP), (great, JJ), (location, NN)]\n",
              "2             BKG-20190696110  ...          [( , _SP), (good, JJ), (facilities, NNS)]\n",
              "3            BKG-201909713799  ...  [(Very, RB), (good, JJ), (location, NN), (grea...\n",
              "4            BKG-201909713799  ...        [( , _SP), (Honestly, RB), (nothings, VBZ)]\n",
              "\n",
              "[5 rows x 6 columns]"
            ]
          },
          "metadata": {
            "tags": []
          },
          "execution_count": 12
        }
      ]
    },
    {
      "cell_type": "code",
      "metadata": {
        "id": "tXAa8wS3CGqv",
        "colab_type": "code",
        "colab": {}
      },
      "source": [
        "def tags_n(POS_tags):\n",
        "  list1 = []\n",
        "  for (a,b) in POS_tags:\n",
        "    if b in [\"NN\" , \"NNS\", \"NNP\",\"NNPS\"]:\n",
        "      list1.append(a)\n",
        "  return list1  \n",
        "    \n",
        "  "
      ],
      "execution_count": 0,
      "outputs": []
    },
    {
      "cell_type": "code",
      "metadata": {
        "id": "3xvvFyXtCSKD",
        "colab_type": "code",
        "colab": {
          "base_uri": "https://localhost:8080/",
          "height": 289
        },
        "outputId": "fecd1c00-b1d7-4244-dbd7-1fd57517eba4"
      },
      "source": [
        "data_s1['tags_noun_Spacy'] = data_s1.POS_tags.apply(tags_n)\n",
        "data_s1.head()"
      ],
      "execution_count": 14,
      "outputs": [
        {
          "output_type": "execute_result",
          "data": {
            "text/html": [
              "<div>\n",
              "<style scoped>\n",
              "    .dataframe tbody tr th:only-of-type {\n",
              "        vertical-align: middle;\n",
              "    }\n",
              "\n",
              "    .dataframe tbody tr th {\n",
              "        vertical-align: top;\n",
              "    }\n",
              "\n",
              "    .dataframe thead th {\n",
              "        text-align: right;\n",
              "    }\n",
              "</style>\n",
              "<table border=\"1\" class=\"dataframe\">\n",
              "  <thead>\n",
              "    <tr style=\"text-align: right;\">\n",
              "      <th></th>\n",
              "      <th>HB_SOCIAL_INSIGHT_REVIEW_ID</th>\n",
              "      <th>REVIEW_TXT</th>\n",
              "      <th>ID_SID</th>\n",
              "      <th>Sentence</th>\n",
              "      <th>NER_spacy</th>\n",
              "      <th>POS_tags</th>\n",
              "      <th>tags_noun_Spacy</th>\n",
              "    </tr>\n",
              "  </thead>\n",
              "  <tbody>\n",
              "    <tr>\n",
              "      <th>0</th>\n",
              "      <td>BKG-20190696110</td>\n",
              "      <td>Comfortable room. great location. good facilities</td>\n",
              "      <td>BKG-20190696110_1</td>\n",
              "      <td>Comfortable room</td>\n",
              "      <td>[]</td>\n",
              "      <td>[(Comfortable, JJ), (room, NN)]</td>\n",
              "      <td>[room]</td>\n",
              "    </tr>\n",
              "    <tr>\n",
              "      <th>1</th>\n",
              "      <td>BKG-20190696110</td>\n",
              "      <td>Comfortable room. great location. good facilities</td>\n",
              "      <td>BKG-20190696110_2</td>\n",
              "      <td>great location</td>\n",
              "      <td>[]</td>\n",
              "      <td>[( , _SP), (great, JJ), (location, NN)]</td>\n",
              "      <td>[location]</td>\n",
              "    </tr>\n",
              "    <tr>\n",
              "      <th>2</th>\n",
              "      <td>BKG-20190696110</td>\n",
              "      <td>Comfortable room. great location. good facilities</td>\n",
              "      <td>BKG-20190696110_3</td>\n",
              "      <td>good facilities</td>\n",
              "      <td>[]</td>\n",
              "      <td>[( , _SP), (good, JJ), (facilities, NNS)]</td>\n",
              "      <td>[facilities]</td>\n",
              "    </tr>\n",
              "    <tr>\n",
              "      <th>3</th>\n",
              "      <td>BKG-201909713799</td>\n",
              "      <td>Very good location great staff and great exper...</td>\n",
              "      <td>BKG-201909713799_1</td>\n",
              "      <td>Very good location great staff and great exper...</td>\n",
              "      <td>[(second, ORDINAL)]</td>\n",
              "      <td>[(Very, RB), (good, JJ), (location, NN), (grea...</td>\n",
              "      <td>[location, staff, experience, time]</td>\n",
              "    </tr>\n",
              "    <tr>\n",
              "      <th>4</th>\n",
              "      <td>BKG-201909713799</td>\n",
              "      <td>Very good location great staff and great exper...</td>\n",
              "      <td>BKG-201909713799_2</td>\n",
              "      <td>Honestly nothings</td>\n",
              "      <td>[]</td>\n",
              "      <td>[( , _SP), (Honestly, RB), (nothings, VBZ)]</td>\n",
              "      <td>[]</td>\n",
              "    </tr>\n",
              "  </tbody>\n",
              "</table>\n",
              "</div>"
            ],
            "text/plain": [
              "  HB_SOCIAL_INSIGHT_REVIEW_ID  ...                      tags_noun_Spacy\n",
              "0             BKG-20190696110  ...                               [room]\n",
              "1             BKG-20190696110  ...                           [location]\n",
              "2             BKG-20190696110  ...                         [facilities]\n",
              "3            BKG-201909713799  ...  [location, staff, experience, time]\n",
              "4            BKG-201909713799  ...                                   []\n",
              "\n",
              "[5 rows x 7 columns]"
            ]
          },
          "metadata": {
            "tags": []
          },
          "execution_count": 14
        }
      ]
    },
    {
      "cell_type": "code",
      "metadata": {
        "id": "yBCXBpLNE3yS",
        "colab_type": "code",
        "colab": {}
      },
      "source": [
        "#Removes Stop words\n",
        "from spacy.lang.en.stop_words import STOP_WORDS\n",
        "def rem_stop_wrds(text):\n",
        "  return \" \".join(str(i) for i in nlp(a) if not i.is_stop)"
      ],
      "execution_count": 0,
      "outputs": []
    },
    {
      "cell_type": "code",
      "metadata": {
        "id": "e4GSAaxbFZMB",
        "colab_type": "code",
        "colab": {}
      },
      "source": [
        "#Removes stop words and lemmatizes\n",
        "from spacy.lang.en.stop_words import STOP_WORDS\n",
        "def rem_stop_wrds_lemma(text):\n",
        "  return \" \".join(i.lemma_ for i in nlp(a) if not i.is_stop)"
      ],
      "execution_count": 0,
      "outputs": []
    },
    {
      "cell_type": "code",
      "metadata": {
        "id": "8DHXnBgvFaeM",
        "colab_type": "code",
        "colab": {}
      },
      "source": [
        "#Gives the noun tags after removing stop words\n",
        "from spacy.lang.en.stop_words import STOP_WORDS\n",
        "nlp = spacy.load(\"en_core_web_sm\")\n",
        "\n",
        "def nounTags_remStopwords(text):\n",
        "  a1 =  \" \".join(str(i) for i in nlp(text) if not i.is_stop)\n",
        "  #print(a1)\n",
        "\n",
        "  #Creating POS Tags\n",
        "  a = nlp(a1)\n",
        "  list1 = []\n",
        "  for i in a:\n",
        "    list1.append((i, i.tag_))\n",
        "  #print(list1)\n",
        "\n",
        "  list2 = []\n",
        "  for (a,b) in list1:\n",
        "    if b in [\"NN\" , \"NNS\", \"NNP\",\"NNPS\"]:\n",
        "      list2.append(a)\n",
        "  return list2"
      ],
      "execution_count": 0,
      "outputs": []
    },
    {
      "cell_type": "code",
      "metadata": {
        "id": "mnOreCnqFixC",
        "colab_type": "code",
        "colab": {}
      },
      "source": [
        "#Gives the noun tags after removing stop words and lemmatizing\n",
        "from spacy.lang.en.stop_words import STOP_WORDS\n",
        "nlp = spacy.load(\"en_core_web_sm\")\n",
        "\n",
        "def nounTags_remStopwords_lemma(text):\n",
        "  a1 =  \" \".join(i.lemma_ for i in nlp(text) if not i.is_stop)\n",
        "  #print(a1)\n",
        "\n",
        "  #Creating POS Tags\n",
        "  a = nlp(a1)\n",
        "  list1 = []\n",
        "  for i in a:\n",
        "    list1.append((i, i.tag_))\n",
        "  #print(list1)\n",
        "\n",
        "  list2 = []\n",
        "  for (a,b) in list1:\n",
        "    if b in [\"NN\" , \"NNS\", \"NNP\",\"NNPS\"]:\n",
        "      list2.append(a)\n",
        "  return list2"
      ],
      "execution_count": 0,
      "outputs": []
    },
    {
      "cell_type": "code",
      "metadata": {
        "id": "M9vr28maGytS",
        "colab_type": "code",
        "colab": {}
      },
      "source": [
        "data_s1['nountags_1'] = data_s1.Sentence.apply(nounTags_remStopwords)"
      ],
      "execution_count": 0,
      "outputs": []
    },
    {
      "cell_type": "code",
      "metadata": {
        "id": "fDnlvBwUIBDr",
        "colab_type": "code",
        "colab": {}
      },
      "source": [
        "data_s1['nountags_2'] = data_s1.Sentence.apply(nounTags_remStopwords_lemma)"
      ],
      "execution_count": 0,
      "outputs": []
    },
    {
      "cell_type": "code",
      "metadata": {
        "id": "DNMd_d_5IZ7B",
        "colab_type": "code",
        "colab": {
          "base_uri": "https://localhost:8080/",
          "height": 442
        },
        "outputId": "69d6b74a-2718-4a90-abc3-665ad82ee83d"
      },
      "source": [
        "data_s1.sample(5)"
      ],
      "execution_count": 53,
      "outputs": [
        {
          "output_type": "execute_result",
          "data": {
            "text/html": [
              "<div>\n",
              "<style scoped>\n",
              "    .dataframe tbody tr th:only-of-type {\n",
              "        vertical-align: middle;\n",
              "    }\n",
              "\n",
              "    .dataframe tbody tr th {\n",
              "        vertical-align: top;\n",
              "    }\n",
              "\n",
              "    .dataframe thead th {\n",
              "        text-align: right;\n",
              "    }\n",
              "</style>\n",
              "<table border=\"1\" class=\"dataframe\">\n",
              "  <thead>\n",
              "    <tr style=\"text-align: right;\">\n",
              "      <th></th>\n",
              "      <th>HB_SOCIAL_INSIGHT_REVIEW_ID</th>\n",
              "      <th>REVIEW_TXT</th>\n",
              "      <th>ID_SID</th>\n",
              "      <th>Sentence</th>\n",
              "      <th>NER_spacy</th>\n",
              "      <th>POS_tags</th>\n",
              "      <th>tags_noun_Spacy</th>\n",
              "      <th>nountags_1</th>\n",
              "      <th>nountags_2</th>\n",
              "    </tr>\n",
              "  </thead>\n",
              "  <tbody>\n",
              "    <tr>\n",
              "      <th>74</th>\n",
              "      <td>TAV-201909258407</td>\n",
              "      <td>Perfect. We stayed here for a quick week in th...</td>\n",
              "      <td>TAV-201909258407_3</td>\n",
              "      <td>It’s perfectly situated in Times Square close...</td>\n",
              "      <td>[(Times Square, FAC)]</td>\n",
              "      <td>[( , _SP), (It, PRP), (’s, NNP), (perfectly, R...</td>\n",
              "      <td>[’s, Times, Square, theaters, restaurants, sub...</td>\n",
              "      <td>[’s, Times, Square, theaters, restaurants, sub...</td>\n",
              "      <td>[’s, Times, Square, theater, restaurant, subway]</td>\n",
              "    </tr>\n",
              "    <tr>\n",
              "      <th>1002</th>\n",
              "      <td>GGL-20190685603</td>\n",
              "      <td>Everything else was fabulous.  No  complaints ...</td>\n",
              "      <td>GGL-20190685603_1</td>\n",
              "      <td>Everything else was fabulous</td>\n",
              "      <td>[]</td>\n",
              "      <td>[(Everything, NN), (else, RB), (was, VBD), (fa...</td>\n",
              "      <td>[Everything]</td>\n",
              "      <td>[]</td>\n",
              "      <td>[]</td>\n",
              "    </tr>\n",
              "    <tr>\n",
              "      <th>56</th>\n",
              "      <td>GGL-20190696092</td>\n",
              "      <td>Time Square Panoramic Room View. Bathroom sink...</td>\n",
              "      <td>GGL-20190696092_1</td>\n",
              "      <td>Time Square Panoramic Room View</td>\n",
              "      <td>[(Time Square Panoramic Room View, FAC)]</td>\n",
              "      <td>[(Time, NNP), (Square, NNP), (Panoramic, NNP),...</td>\n",
              "      <td>[Time, Square, Panoramic, Room, View]</td>\n",
              "      <td>[Time, Square, Panoramic, Room, View]</td>\n",
              "      <td>[Time, Square, Panoramic, Room, View]</td>\n",
              "    </tr>\n",
              "    <tr>\n",
              "      <th>790</th>\n",
              "      <td>TAV-201909256707</td>\n",
              "      <td>Amazing location. Stayed here with my sister a...</td>\n",
              "      <td>TAV-201909256707_2</td>\n",
              "      <td>Stayed here with my sister and mum for a five...</td>\n",
              "      <td>[(five night, TIME), (September 2019, DATE)]</td>\n",
              "      <td>[( , _SP), (Stayed, NNP), (here, RB), (with, I...</td>\n",
              "      <td>[Stayed, sister, mum, night, break, September]</td>\n",
              "      <td>[Stayed, sister, mum, night, break, September]</td>\n",
              "      <td>[Stayed, sister, mum, night, break, September]</td>\n",
              "    </tr>\n",
              "    <tr>\n",
              "      <th>710</th>\n",
              "      <td>TAV-201909259718</td>\n",
              "      <td>Great value in NYC An excellent choice for vis...</td>\n",
              "      <td>TAV-201909259718_4</td>\n",
              "      <td>In spite of that we loved our stay and I wil...</td>\n",
              "      <td>[]</td>\n",
              "      <td>[(  , _SP), (In, IN), (spite, NN), (of, IN), (...</td>\n",
              "      <td>[spite, stay, anyone]</td>\n",
              "      <td>[spite, stay, recommend]</td>\n",
              "      <td>[spite, love, recommend]</td>\n",
              "    </tr>\n",
              "  </tbody>\n",
              "</table>\n",
              "</div>"
            ],
            "text/plain": [
              "     HB_SOCIAL_INSIGHT_REVIEW_ID  ...                                        nountags_2\n",
              "74              TAV-201909258407  ...  [’s, Times, Square, theater, restaurant, subway]\n",
              "1002             GGL-20190685603  ...                                                []\n",
              "56               GGL-20190696092  ...             [Time, Square, Panoramic, Room, View]\n",
              "790             TAV-201909256707  ...    [Stayed, sister, mum, night, break, September]\n",
              "710             TAV-201909259718  ...                          [spite, love, recommend]\n",
              "\n",
              "[5 rows x 9 columns]"
            ]
          },
          "metadata": {
            "tags": []
          },
          "execution_count": 53
        }
      ]
    },
    {
      "cell_type": "code",
      "metadata": {
        "id": "LT5Rg8lCIvze",
        "colab_type": "code",
        "colab": {}
      },
      "source": [
        "\n",
        "\n"
      ],
      "execution_count": 0,
      "outputs": []
    }
  ]
}